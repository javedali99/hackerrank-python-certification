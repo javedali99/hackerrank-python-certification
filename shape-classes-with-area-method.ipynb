{
 "cells": [
  {
   "cell_type": "markdown",
   "metadata": {},
   "source": [
    "# Shape classes with area method"
   ]
  },
  {
   "cell_type": "markdown",
   "metadata": {},
   "source": [
    "Implement two classes"
   ]
  },
  {
   "cell_type": "markdown",
   "metadata": {},
   "source": [
    "### Rectangle:\n",
    "- The constructor for Rectangle must take two arguments that denote the lengths of the rectangle's sides.\n",
    "- The class must have an area method that returns the area of the rectangle."
   ]
  },
  {
   "cell_type": "code",
   "execution_count": null,
   "metadata": {},
   "outputs": [],
   "source": [
    "import math\n",
    "\n",
    "class Rectangle:\n",
    "    a = 0\n",
    "    b = 0\n",
    "    def __init__(self, a,b):\n",
    "        self.a = a\n",
    "        self.b = b\n",
    "\n",
    "    def area(self):\n",
    "        return self.a * self.b"
   ]
  },
  {
   "cell_type": "markdown",
   "metadata": {},
   "source": [
    "### Circle:\n",
    "- The constructor for Circle must take one argument that denotes the radius of the circle.\n",
    "- The Circle class must have an area method that return the area of the circle. To implement the area method, use a precise Pi value, preferably the constant math.pi."
   ]
  },
  {
   "cell_type": "code",
   "execution_count": null,
   "metadata": {},
   "outputs": [],
   "source": [
    "class Circle:\n",
    "    r = 0\n",
    "    def __init__(self, r):\n",
    "        self.r = r\n",
    "\n",
    "    def area(self):\n",
    "        return math.pi * self.r * self.r"
   ]
  }
 ],
 "metadata": {
  "kernelspec": {
   "display_name": "Python 3",
   "language": "python",
   "name": "python3"
  },
  "language_info": {
   "codemirror_mode": {
    "name": "ipython",
    "version": 3
   },
   "file_extension": ".py",
   "mimetype": "text/x-python",
   "name": "python",
   "nbconvert_exporter": "python",
   "pygments_lexer": "ipython3",
   "version": "3.8.1"
  }
 },
 "nbformat": 4,
 "nbformat_minor": 4
}
